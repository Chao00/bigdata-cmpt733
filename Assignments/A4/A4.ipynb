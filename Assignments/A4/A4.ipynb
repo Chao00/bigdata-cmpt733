{
 "cells": [
  {
   "cell_type": "markdown",
   "metadata": {},
   "source": [
    "# Assignment 4: Correlation Analysis and Bootstrapping"
   ]
  },
  {
   "cell_type": "markdown",
   "metadata": {},
   "source": [
    "## Objective"
   ]
  },
  {
   "cell_type": "markdown",
   "metadata": {},
   "source": [
    "The field of statistics is divided into two major parts: descriptive and inferential. In this assignment, we will cover two important topics in statistics: correlation analysis and bootstrapping, where the former belongs to the descriptive part and the latter belongs to the inferential part. After this assignment, you will be able to answer the following questions:\n",
    "\n",
    "1. How to visualize the relationship between two variables?  \n",
    "2. What is Pearson's correlation? How to compute it?\n",
    "3. What is Spearman's rank correlation? How to compute it?\n",
    "4. What's the difference between Pearson's correlation and Spearman's rank correlation? \n",
    "5. How to estimate a population parameter based on a sample?\n",
    "6. How to use the bootstrap to quantify the uncertainty of an estimated value?\n",
    "\n",
    "**Requirements:**\n",
    "* Use [pandas](https://pandas.pydata.org/) to manipulate data.\n",
    "* Use [matplotlib](https://matplotlib.org/) or [seaborn](https://seaborn.pydata.org) to make plots.\n",
    "* Please pay attention to visualization principles. \n",
    "\n",
    "\n",
    "The data can be downloaded from [A4-data.zip](A4-data.zip).\n"
   ]
  },
  {
   "cell_type": "markdown",
   "metadata": {},
   "source": [
    "## Part 1. Correlation Analysis"
   ]
  },
  {
   "cell_type": "markdown",
   "metadata": {},
   "source": [
    "As a data scientist, you often face this kind of question: \"Are A and B correlated?\" For example, \n",
    "\n",
    "* Do Canadian Currency and Oil Price move together?\n",
    "* Do Vancouver Housing Price and US Stock Market have any correlation?\n",
    "* Are GPA and Gender independent? \n",
    "\n",
    "To answer these questions, you need to conduct a correlation analysis. \n",
    "\n",
    "Imagine you are a data scientist working at a real-estate company. You download a property_tax_report from this [webpage](https://opendata.vancouver.ca/explore/dataset/property-tax-report/table/?refine.report_year=2021). The dataset contains information on properties from BC Assessment (BCA) and City sources in 2021.  \n",
    "\n",
    "You may think that for a newly built house, it tends to have a higher price than the ones built decades ago. In this assignment, your first job is to figure out whether YEAR_BUILT and HOUSE_PRICE are correlated. "
   ]
  },
  {
   "cell_type": "markdown",
   "metadata": {},
   "source": [
    "We first load the data as a DataFrame. "
   ]
  },
  {
   "cell_type": "code",
   "execution_count": 3,
   "metadata": {},
   "outputs": [],
   "source": [
    "import pandas as pd\n",
    "import pandas as pd\n",
    "import seaborn as sns\n",
    "import numpy as np\n",
    "import matplotlib.pyplot as plt\n",
    "\n",
    "df = pd.read_csv(\"A4-data/property-tax-report_2021.csv\")\n",
    "\n",
    "\n",
    "df['HOUSE_PRICE'] = df.apply(lambda x: (x['CURRENT_LAND_VALUE'] \\\n",
    "                                        +x['CURRENT_IMPROVEMENT_VALUE'])/1000000.0, axis = 1)"
   ]
  },
  {
   "cell_type": "code",
   "execution_count": 4,
   "metadata": {},
   "outputs": [
    {
     "data": {
      "text/html": [
       "<div>\n",
       "<style scoped>\n",
       "    .dataframe tbody tr th:only-of-type {\n",
       "        vertical-align: middle;\n",
       "    }\n",
       "\n",
       "    .dataframe tbody tr th {\n",
       "        vertical-align: top;\n",
       "    }\n",
       "\n",
       "    .dataframe thead th {\n",
       "        text-align: right;\n",
       "    }\n",
       "</style>\n",
       "<table border=\"1\" class=\"dataframe\">\n",
       "  <thead>\n",
       "    <tr style=\"text-align: right;\">\n",
       "      <th></th>\n",
       "      <th>Unnamed: 0</th>\n",
       "      <th>PID</th>\n",
       "      <th>LEGAL_TYPE</th>\n",
       "      <th>FOLIO</th>\n",
       "      <th>LAND_COORDINATE</th>\n",
       "      <th>ZONE_NAME</th>\n",
       "      <th>ZONE_CATEGORY</th>\n",
       "      <th>BLOCK</th>\n",
       "      <th>PLAN</th>\n",
       "      <th>DISTRICT_LOT</th>\n",
       "      <th>...</th>\n",
       "      <th>CURRENT_IMPROVEMENT_VALUE</th>\n",
       "      <th>TAX_ASSESSMENT_YEAR</th>\n",
       "      <th>PREVIOUS_IMPROVEMENT_VALUE</th>\n",
       "      <th>PREVIOUS_LAND_VALUE</th>\n",
       "      <th>YEAR_BUILT</th>\n",
       "      <th>BIG_IMPROVEMENT_YEAR</th>\n",
       "      <th>TAX_LEVY</th>\n",
       "      <th>NEIGHBOURHOOD_CODE</th>\n",
       "      <th>REPORT_YEAR</th>\n",
       "      <th>HOUSE_PRICE</th>\n",
       "    </tr>\n",
       "  </thead>\n",
       "  <tbody>\n",
       "    <tr>\n",
       "      <th>0</th>\n",
       "      <td>0</td>\n",
       "      <td>028-920-317</td>\n",
       "      <td>STRATA</td>\n",
       "      <td>640170030078</td>\n",
       "      <td>64017003</td>\n",
       "      <td>C-3A</td>\n",
       "      <td>Commercial</td>\n",
       "      <td>NaN</td>\n",
       "      <td>EPS984</td>\n",
       "      <td>302</td>\n",
       "      <td>...</td>\n",
       "      <td>236000.0</td>\n",
       "      <td>2021.0</td>\n",
       "      <td>231000.0</td>\n",
       "      <td>366000.0</td>\n",
       "      <td>2012.0</td>\n",
       "      <td>2012.0</td>\n",
       "      <td>NaN</td>\n",
       "      <td>13</td>\n",
       "      <td>2021</td>\n",
       "      <td>0.6020</td>\n",
       "    </tr>\n",
       "    <tr>\n",
       "      <th>1</th>\n",
       "      <td>1</td>\n",
       "      <td>013-935-178</td>\n",
       "      <td>LAND</td>\n",
       "      <td>144823280000</td>\n",
       "      <td>14482328</td>\n",
       "      <td>RS-1</td>\n",
       "      <td>One Family Dwelling</td>\n",
       "      <td>B</td>\n",
       "      <td>VAP2277</td>\n",
       "      <td>319</td>\n",
       "      <td>...</td>\n",
       "      <td>645000.0</td>\n",
       "      <td>2021.0</td>\n",
       "      <td>647000.0</td>\n",
       "      <td>1507000.0</td>\n",
       "      <td>2008.0</td>\n",
       "      <td>2008.0</td>\n",
       "      <td>NaN</td>\n",
       "      <td>12</td>\n",
       "      <td>2021</td>\n",
       "      <td>2.3160</td>\n",
       "    </tr>\n",
       "    <tr>\n",
       "      <th>2</th>\n",
       "      <td>2</td>\n",
       "      <td>027-303-756</td>\n",
       "      <td>STRATA</td>\n",
       "      <td>161599060186</td>\n",
       "      <td>16159906</td>\n",
       "      <td>CD-1 (415)</td>\n",
       "      <td>Comprehensive Development</td>\n",
       "      <td>NaN</td>\n",
       "      <td>BCS2611</td>\n",
       "      <td>FC</td>\n",
       "      <td>...</td>\n",
       "      <td>230000.0</td>\n",
       "      <td>2021.0</td>\n",
       "      <td>227000.0</td>\n",
       "      <td>632000.0</td>\n",
       "      <td>2007.0</td>\n",
       "      <td>2007.0</td>\n",
       "      <td>NaN</td>\n",
       "      <td>26</td>\n",
       "      <td>2021</td>\n",
       "      <td>0.8960</td>\n",
       "    </tr>\n",
       "    <tr>\n",
       "      <th>3</th>\n",
       "      <td>3</td>\n",
       "      <td>015-330-265</td>\n",
       "      <td>LAND</td>\n",
       "      <td>634255510000</td>\n",
       "      <td>63425551</td>\n",
       "      <td>RT-4</td>\n",
       "      <td>Two Family Dwelling</td>\n",
       "      <td>147</td>\n",
       "      <td>VAP381</td>\n",
       "      <td>264A</td>\n",
       "      <td>...</td>\n",
       "      <td>76600.0</td>\n",
       "      <td>2021.0</td>\n",
       "      <td>77900.0</td>\n",
       "      <td>1715000.0</td>\n",
       "      <td>1924.0</td>\n",
       "      <td>1965.0</td>\n",
       "      <td>NaN</td>\n",
       "      <td>14</td>\n",
       "      <td>2021</td>\n",
       "      <td>1.8796</td>\n",
       "    </tr>\n",
       "    <tr>\n",
       "      <th>4</th>\n",
       "      <td>4</td>\n",
       "      <td>015-627-837</td>\n",
       "      <td>LAND</td>\n",
       "      <td>694228080000</td>\n",
       "      <td>69422808</td>\n",
       "      <td>RT-10</td>\n",
       "      <td>Two Family Dwelling</td>\n",
       "      <td>60</td>\n",
       "      <td>VAP187</td>\n",
       "      <td>301</td>\n",
       "      <td>...</td>\n",
       "      <td>NaN</td>\n",
       "      <td>NaN</td>\n",
       "      <td>NaN</td>\n",
       "      <td>NaN</td>\n",
       "      <td>1927.0</td>\n",
       "      <td>1998.0</td>\n",
       "      <td>NaN</td>\n",
       "      <td>15</td>\n",
       "      <td>2021</td>\n",
       "      <td>NaN</td>\n",
       "    </tr>\n",
       "  </tbody>\n",
       "</table>\n",
       "<p>5 rows × 31 columns</p>\n",
       "</div>"
      ],
      "text/plain": [
       "   Unnamed: 0          PID LEGAL_TYPE         FOLIO  LAND_COORDINATE  \\\n",
       "0           0  028-920-317     STRATA  640170030078         64017003   \n",
       "1           1  013-935-178       LAND  144823280000         14482328   \n",
       "2           2  027-303-756     STRATA  161599060186         16159906   \n",
       "3           3  015-330-265       LAND  634255510000         63425551   \n",
       "4           4  015-627-837       LAND  694228080000         69422808   \n",
       "\n",
       "    ZONE_NAME              ZONE_CATEGORY BLOCK     PLAN DISTRICT_LOT  ...  \\\n",
       "0        C-3A                 Commercial   NaN   EPS984          302  ...   \n",
       "1        RS-1        One Family Dwelling     B  VAP2277          319  ...   \n",
       "2  CD-1 (415)  Comprehensive Development   NaN  BCS2611           FC  ...   \n",
       "3        RT-4        Two Family Dwelling   147   VAP381         264A  ...   \n",
       "4       RT-10        Two Family Dwelling    60   VAP187          301  ...   \n",
       "\n",
       "  CURRENT_IMPROVEMENT_VALUE TAX_ASSESSMENT_YEAR  PREVIOUS_IMPROVEMENT_VALUE  \\\n",
       "0                  236000.0              2021.0                    231000.0   \n",
       "1                  645000.0              2021.0                    647000.0   \n",
       "2                  230000.0              2021.0                    227000.0   \n",
       "3                   76600.0              2021.0                     77900.0   \n",
       "4                       NaN                 NaN                         NaN   \n",
       "\n",
       "  PREVIOUS_LAND_VALUE YEAR_BUILT BIG_IMPROVEMENT_YEAR TAX_LEVY  \\\n",
       "0            366000.0     2012.0               2012.0      NaN   \n",
       "1           1507000.0     2008.0               2008.0      NaN   \n",
       "2            632000.0     2007.0               2007.0      NaN   \n",
       "3           1715000.0     1924.0               1965.0      NaN   \n",
       "4                 NaN     1927.0               1998.0      NaN   \n",
       "\n",
       "  NEIGHBOURHOOD_CODE REPORT_YEAR HOUSE_PRICE  \n",
       "0                 13        2021      0.6020  \n",
       "1                 12        2021      2.3160  \n",
       "2                 26        2021      0.8960  \n",
       "3                 14        2021      1.8796  \n",
       "4                 15        2021         NaN  \n",
       "\n",
       "[5 rows x 31 columns]"
      ]
     },
     "execution_count": 4,
     "metadata": {},
     "output_type": "execute_result"
    }
   ],
   "source": [
    "df.head()"
   ]
  },
  {
   "cell_type": "markdown",
   "metadata": {},
   "source": [
    "### Task A. Visualizations"
   ]
  },
  {
   "cell_type": "markdown",
   "metadata": {},
   "source": [
    "Since the housing price varies a lot by locations, we will only consider the houses whose postcode starts with 'V6A'. Furthermore, we remove the houses that were built before 1900."
   ]
  },
  {
   "cell_type": "markdown",
   "metadata": {},
   "source": [
    "<img src=\"img/v6a.png\" width=\"400\">"
   ]
  },
  {
   "cell_type": "code",
   "execution_count": 269,
   "metadata": {},
   "outputs": [],
   "source": [
    "df_V6A = df[df['PROPERTY_POSTAL_CODE'].str.contains(\"V6A\", na=False)]\n",
    "df_V6A = df_V6A[df_V6A['YEAR_BUILT'] >= 1900]"
   ]
  },
  {
   "cell_type": "markdown",
   "metadata": {},
   "source": [
    "In the following, please make two subplots in one row. For the left subplot, it is a scatter plot with X = `YEAR_BUILT` and Y = `HOUSE_PRICE`; for the right subplot, it is a hexbin plot (gridsize = 20) with X = `YEAR_BUILT` and Y = `HOUSE_PRICE`."
   ]
  },
  {
   "cell_type": "code",
   "execution_count": 304,
   "metadata": {},
   "outputs": [
    {
     "data": {
      "image/png": "[encoded data removed]",
      "text/plain": [
       "<Figure size 1080x360 with 3 Axes>"
      ]
     },
     "metadata": {
      "needs_background": "light"
     },
     "output_type": "display_data"
    }
   ],
   "source": [
    "#<-- Write Your Code -->\n",
    "fig, axs = plt.subplots(ncols=2, figsize=(15, 5))\n",
    "fig.subplots_adjust(hspace=0.5, left=0.07, right=0.93)\n",
    "ax = axs[0]\n",
    "ax.set_xlabel('YEAR_BUILT')\n",
    "ax.set_ylabel('HOUSE_PRICE')\n",
    "ax.set_title(\"scatter plot\")\n",
    "sns.scatterplot(data=df_V6A, x=\"YEAR_BUILT\", y=\"HOUSE_PRICE\", ax=axs[0])\n",
    "\n",
    "ax = axs[1]\n",
    "ax.set_title(\"hexbin plot\")\n",
    "ax.set_xlabel('YEAR_BUILT')\n",
    "ax.set_ylabel('HOUSE_PRICE')\n",
    "hb = df_V6A.plot.hexbin(x='YEAR_BUILT', y='HOUSE_PRICE', gridsize=20, ax=axs[1])"
   ]
  },
  {
   "cell_type": "markdown",
   "metadata": {},
   "source": [
    "Please write down the **two** most interesting findings that you draw from the plot.\n",
    "\n",
    "**Findings**\n",
    "1. Many house's price are close to zero.\n",
    "2. Doesn't seem to have a linear relatiionship between year built and house price"
   ]
  },
  {
   "cell_type": "markdown",
   "metadata": {},
   "source": [
    "The above plots provide a general impression of the relationship between variables. There are some other visualizations that can provide more insights. One option is to bin one variable and plot percentiles of the other. \n",
    "\n",
    "\n",
    "In the following, please make three subplots in a row, where each subplot is a scatter plot with X = YEAR_BUILT and Y = HOUSE_PRICE. \n",
    "* The first subplot shows how the 25th percentile of `HOUSE_PRICE` changes over years (X = `YEAR_BUILT`, Y = `25TH_HOUSE_PRICE`); \n",
    "* The second subplot shows how the 50th percentile of `HOUSE_PRICE` changes over years (X = `YEAR_BUILT`, Y = `50TH_HOUSE_PRICE`); \n",
    "* The third subplot shows how the 75th percentile of `HOUSE_PRICE` changes over years (X = `YEAR_BUILT`, Y = `75TH_HOUSE_PRICE`);  \n"
   ]
  },
  {
   "cell_type": "code",
   "execution_count": 289,
   "metadata": {},
   "outputs": [
    {
     "name": "stderr",
     "output_type": "stream",
     "text": [
      "/Users/zhangchao/opt/anaconda3/lib/python3.7/site-packages/ipykernel_launcher.py:10: UserWarning: Matplotlib is currently using module://ipykernel.pylab.backend_inline, which is a non-GUI backend, so cannot show the figure.\n",
      "  # Remove the CWD from sys.path while we load stuff.\n"
     ]
    },
    {
     "data": {
      "image/png": "[encoded data removed]",
      "text/plain": [
       "<Figure size 1440x432 with 3 Axes>"
      ]
     },
     "metadata": {
      "needs_background": "light"
     },
     "output_type": "display_data"
    }
   ],
   "source": [
    "#<-- Write Your Code -->\n",
    "df_year_price = df_V6A[[\"YEAR_BUILT\", \"HOUSE_PRICE\"]]\n",
    "dfcor = df_year_price.groupby('YEAR_BUILT').describe().stack(level=0)[['25%', '50%', '75%']]\n",
    "dfcor.columns = ['25TH_HOUSE_PRICE', '50TH_HOUSE_PRICE', '75TH_HOUSE_PRICE']\n",
    "\n",
    "fig, ax = plt.subplots(ncols=3,  figsize=(20, 6))\n",
    "sns.scatterplot(data=dfcor, x=\"YEAR_BUILT\", y=\"25TH_HOUSE_PRICE\", ax=ax[0])\n",
    "sns.scatterplot(data=dfcor, x=\"YEAR_BUILT\", y=\"50TH_HOUSE_PRICE\", ax=ax[1])\n",
    "sns.scatterplot(data=dfcor, x=\"YEAR_BUILT\", y=\"75TH_HOUSE_PRICE\", ax=ax[2])\n",
    "fig.show()"
   ]
  },
  {
   "cell_type": "markdown",
   "metadata": {},
   "source": [
    "Please write down the **two** most interesting findings that you draw from the plot.\n",
    "\n",
    "**Findings**\n",
    "1. All three percentiles in the graph looks like a bell shape, start incresing from 1900 to 1950 and drop from 1950 to 2020.\n",
    "2. Seems like the house price is pretty high between 1940 and 1960"
   ]
  },
  {
   "cell_type": "markdown",
   "metadata": {},
   "source": [
    "### Task B. Correlation Coefficient"
   ]
  },
  {
   "cell_type": "markdown",
   "metadata": {},
   "source": [
    "A correlation coefficient is a numerical measure of some type of correlation, meaning a statistical relationship between a pair of variables. \n",
    "\n",
    "In the following, please implement `calc_pearson()` and `calc_spearman()`, respectively. Note that you are *NOT* allowed to use [corr](https://pandas.pydata.org/pandas-docs/stable/generated/pandas.DataFrame.corr.html) from Pandas or [pearsonr](https://docs.scipy.org/doc/scipy/reference/generated/scipy.stats.pearsonr.html#scipy.stats.pearsonr)/[spearmanr](https://docs.scipy.org/doc/scipy/reference/generated/scipy.stats.spearmanr.html#scipy.stats.spearmanr) from scipy.stats to do this task. In other words, you need to implement the actual algorithms for pearson and spearman."
   ]
  },
  {
   "cell_type": "code",
   "execution_count": 298,
   "metadata": {},
   "outputs": [
    {
     "data": {
      "text/plain": [
       "(-0.10822284555850334, 0.12366124629992697)"
      ]
     },
     "execution_count": 298,
     "metadata": {},
     "output_type": "execute_result"
    }
   ],
   "source": [
    "from scipy.stats import pearsonr\n",
    "from scipy.stats import spearmanr\n",
    "corr, _ = pearsonr(df_year_price.YEAR_BUILT.unique(), dfcor[\"50TH_HOUSE_PRICE\"])\n",
    "corr\n",
    "coef, p = spearmanr(df_year_price.YEAR_BUILT.unique(), dfcor[\"50TH_HOUSE_PRICE\"])\n",
    "(corr, coef)"
   ]
  },
  {
   "cell_type": "code",
   "execution_count": 299,
   "metadata": {},
   "outputs": [],
   "source": [
    "def calc_pearson(df, x, y):\n",
    "    cov = np.cov(df_year_price[x].unique(), df[y])[0][1]\n",
    "    year_std = np.std(df_year_price[x].unique())\n",
    "    price_std = np.std(df[y])\n",
    "    return cov / (year_std * price_std)\n",
    "    \n",
    "def calc_spearman(df, x, y):\n",
    "    years = df_year_price[x].unique()\n",
    "    prices = df[y].to_numpy()\n",
    "    years_rank = calc_rank(years)\n",
    "    prices_rank = calc_rank(prices)\n",
    "    cov = np.cov(years_rank, prices_rank)[0][1]\n",
    "    std_year = np.std(years_rank)\n",
    "    std_price = np.std(prices_rank)\n",
    "    return cov / (std_year * std_price)\n",
    "    \n",
    "def calc_rank(data):\n",
    "    temp = data.argsort()\n",
    "    ranks = np.empty_like(temp)\n",
    "    ranks[temp] = np.arange(len(data))\n",
    "    return ranks\n"
   ]
  },
  {
   "cell_type": "markdown",
   "metadata": {},
   "source": [
    "Then, you can use these two functions to compute the Pearson's correlation as well as Spearman's rank correlation for three pairs of variables: <`25TH_HOUSE_PRICE`, `YEAR_BUILT`>, <`50TH_HOUSE_PRICE`, `YEAR_BUILT`>, and <`75TH_HOUSE_PRICE`, `YEAR_BUILT`>. "
   ]
  },
  {
   "cell_type": "code",
   "execution_count": 300,
   "metadata": {
    "scrolled": true
   },
   "outputs": [
    {
     "name": "stdout",
     "output_type": "stream",
     "text": [
      "                        25TH_HOUSE_PRICE  50TH_HOUSE_PRICE  75TH_HOUSE_PRICE\n",
      "YEAR_BUILT                                                                  \n",
      "1900.0     HOUSE_PRICE          1.212500           1.58465          1.743000\n",
      "1901.0     HOUSE_PRICE          1.191825           1.57840          1.960075\n",
      "1902.0     HOUSE_PRICE         13.056000          13.05600         13.056000\n",
      "1903.0     HOUSE_PRICE          1.382600           1.47570          1.610300\n",
      "1904.0     HOUSE_PRICE          1.204300           1.40400          1.701000\n",
      "1905.0     HOUSE_PRICE          1.297000           1.58200          1.789000\n",
      "1906.0     HOUSE_PRICE          1.113000           1.55275          2.383500\n",
      "1907.0     HOUSE_PRICE          1.528800           1.76955          2.032750\n",
      "1908.0     HOUSE_PRICE          1.407475           1.58920          1.873250\n",
      "1909.0     HOUSE_PRICE          1.271175           1.66150          6.102225\n",
      "\n",
      "25TH_HOUSE_PRICE\t pearson=-0.098037\t spearman=0.069356\n",
      "50TH_HOUSE_PRICE\t pearson=-0.109164\t spearman=0.124737\n",
      "75TH_HOUSE_PRICE\t pearson=-0.004099\t spearman=0.114717\n"
     ]
    }
   ],
   "source": [
    "print(dfcor.head(10))\n",
    "print()\n",
    "\n",
    "for TH in [\"25TH\", \"50TH\", \"75TH\"]:\n",
    "    print(TH+\"_HOUSE_PRICE\\t pearson=%f\\t spearman=%f\"  \\\n",
    "          %(calc_pearson(dfcor, \"YEAR_BUILT\", TH+\"_HOUSE_PRICE\"), \\\n",
    "            calc_spearman(dfcor, \"YEAR_BUILT\", TH+\"_HOUSE_PRICE\")))"
   ]
  },
  {
   "cell_type": "markdown",
   "metadata": {},
   "source": [
    "Please write down the **two** most interesting findings that you draw from the result."
   ]
  },
  {
   "cell_type": "markdown",
   "metadata": {},
   "source": [
    " \n",
    "\n",
    "**Findings**\n",
    "1. Pearson's correlation and Spearman's rank correlation have different signs\n",
    "2. Both methods suggest that year built and house price only has weak correlation."
   ]
  },
  {
   "cell_type": "markdown",
   "metadata": {},
   "source": [
    "## Part 2. Bootstrapping"
   ]
  },
  {
   "cell_type": "markdown",
   "metadata": {},
   "source": [
    "In reality, it is more often than not that you can only collect a sample of the data. Whenever you derive a conclusion from a sample (e.g., Vancouver's housing price has increased by 10% since last year), you should ALWAYS ask yourself: **\"CAN I TRUST IT?\"**. In other words, you want to know that if the same analysis was conducted on the full data, would the same conclusion be derived? In Part 2, you will learn how to use bootstrapping to answer this question. "
   ]
  },
  {
   "cell_type": "code",
   "execution_count": 268,
   "metadata": {},
   "outputs": [],
   "source": [
    "df_sample = pd.read_csv(\"A4-data/property-tax-report_2021_sample.csv\")\n",
    "\n",
    "df_sample['CURRENT_PRICE'] = df_sample.apply(lambda x: x['CURRENT_LAND_VALUE'] \\\n",
    "                                             +x['CURRENT_IMPROVEMENT_VALUE'], axis = 1)\n",
    "\n",
    "df_sample['PREVIOUS_PRICE'] = df_sample.apply(lambda x: x['PREVIOUS_LAND_VALUE'] \\\n",
    "                                              +x['PREVIOUS_IMPROVEMENT_VALUE'], axis = 1)\n",
    "\n",
    "df_sample = df_sample[df_sample['LEGAL_TYPE'] == 'STRATA']"
   ]
  },
  {
   "cell_type": "markdown",
   "metadata": {},
   "source": [
    "### Task 1. Analysis Result Without Bootstrapping"
   ]
  },
  {
   "cell_type": "markdown",
   "metadata": {},
   "source": [
    "Please compute the median of PREVIOUS_PRICE and CURRENT_PRICE, respectively, and compare them in a bar chart."
   ]
  },
  {
   "cell_type": "code",
   "execution_count": 186,
   "metadata": {},
   "outputs": [
    {
     "data": {
      "image/png": "[encoded data removed]",
      "text/plain": [
       "<Figure size 432x288 with 1 Axes>"
      ]
     },
     "metadata": {
      "needs_background": "light"
     },
     "output_type": "display_data"
    }
   ],
   "source": [
    "# --- Write your code below ---\n",
    "median_previous = df_sample.PREVIOUS_PRICE.median()\n",
    "median_current = df_sample.CURRENT_PRICE.median()\n",
    "\n",
    "langs = ['median_previous', 'median_current']\n",
    "students = [median_previous, median_current]\n",
    "plt.bar(langs,students)\n",
    "plt.show()"
   ]
  },
  {
   "cell_type": "markdown",
   "metadata": {},
   "source": [
    "### Task 2. Analysis Result With Bootstrapping"
   ]
  },
  {
   "cell_type": "markdown",
   "metadata": {},
   "source": [
    "From the above chart, we find that the median of PREVIOUS_PRICE is about 0.77 M, and the median of CURRENT_PRICE is about 0.72 M. Since the numbers were obtained from the sample, **\"CAN WE TRUST THESE NUMBERS?\"**\n",
    "\n",
    "In the following, please implement the bootstrap by yourself, compute a 95%-confidence interval for each number, and add the confidence intervals to the above bar chart. [This document](./MIT18_05S14_Reading24.pdf) gives a good tutorial about the bootstrap. You can find the description of the algorithm in Section 7."
   ]
  },
  {
   "cell_type": "code",
   "execution_count": 263,
   "metadata": {
    "scrolled": true
   },
   "outputs": [],
   "source": [
    "# --- Write your code below ---\n",
    "nboot = 1000\n",
    "\n",
    "previous_price = df_sample.PREVIOUS_PRICE.to_numpy()\n",
    "previous_price = previous_price[~np.isnan(previous_price)]\n",
    "previous_price_median = np.median(previous_price)\n",
    "\n",
    "current_price = df_sample.CURRENT_PRICE.to_numpy()\n",
    "current_price = current_price[~np.isnan(current_price)]\n",
    "current_price_median = np.median(current_price)\n",
    "\n",
    "sample_previous = np.random.choice(previous_price, len(previous_price) * nboot, replace=True)\n",
    "sample_current = np.random.choice(current_price, len(current_price) * nboot, replace=True)\n",
    "\n",
    "sample_previous = sample_previous.reshape(len(previous_price),nboot)\n",
    "sample_current = sample_current.reshape(len(current_price),nboot)"
   ]
  },
  {
   "cell_type": "code",
   "execution_count": 264,
   "metadata": {},
   "outputs": [],
   "source": [
    "bs_previous_median = np.median(sample_previous, axis = 0)\n",
    "bs_current_median = np.median(sample_current, axis = 0)\n",
    "delta_previous = bs_previous_median - previous_price_median\n",
    "delta_current = bs_current_median - current_price_median\n",
    "previous_quantile = np.quantile(delta_previous, [0.975, 0.025])\n",
    "current_quantile = np.quantile(delta_current, [0.975, 0.025])"
   ]
  },
  {
   "cell_type": "code",
   "execution_count": 265,
   "metadata": {},
   "outputs": [
    {
     "data": {
      "text/plain": [
       "array([664000., 719000.])"
      ]
     },
     "execution_count": 265,
     "metadata": {},
     "output_type": "execute_result"
    }
   ],
   "source": [
    "previous_ci = previous_price_median - previous_quantile\n",
    "previous_ci"
   ]
  },
  {
   "cell_type": "code",
   "execution_count": 266,
   "metadata": {},
   "outputs": [
    {
     "data": {
      "text/plain": [
       "array([689700. , 751737.5])"
      ]
     },
     "execution_count": 266,
     "metadata": {},
     "output_type": "execute_result"
    }
   ],
   "source": [
    "current_ci = current_price_median - current_quantile\n",
    "current_ci"
   ]
  },
  {
   "cell_type": "code",
   "execution_count": 267,
   "metadata": {},
   "outputs": [
    {
     "data": {
      "image/png": "[encoded data removed]",
      "text/plain": [
       "<Figure size 432x288 with 1 Axes>"
      ]
     },
     "metadata": {
      "needs_background": "light"
     },
     "output_type": "display_data"
    }
   ],
   "source": [
    "ci = [previous_ci, current_ci]\n",
    "median_previous = df_sample.PREVIOUS_PRICE.median()\n",
    "median_current = df_sample.CURRENT_PRICE.median()\n",
    "medians = [median_previous, median_current]\n",
    "y_r = [medians[i] - ci[i][1] for i in range(len(ci))]\n",
    "\n",
    "langs = ['median_previous', 'median_current']\n",
    "x = [median_previous, median_current]\n",
    "plt.bar(langs,x, yerr=y_r, align='center', alpha=0.7)\n",
    "plt.show()"
   ]
  },
  {
   "cell_type": "markdown",
   "metadata": {},
   "source": [
    "## Submission"
   ]
  },
  {
   "cell_type": "markdown",
   "metadata": {},
   "source": [
    "Complete the code in this notebook, and submit it to the CourSys activity Assignment 4."
   ]
  }
 ],
 "metadata": {
  "kernelspec": {
   "display_name": "Python 3",
   "language": "python",
   "name": "python3"
  },
  "language_info": {
   "codemirror_mode": {
    "name": "ipython",
    "version": 3
   },
   "file_extension": ".py",
   "mimetype": "text/x-python",
   "name": "python",
   "nbconvert_exporter": "python",
   "pygments_lexer": "ipython3",
   "version": "3.7.4"
  }
 },
 "nbformat": 4,
 "nbformat_minor": 4
}
