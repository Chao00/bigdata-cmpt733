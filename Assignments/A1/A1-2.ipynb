{
 "cells": [
  {
   "cell_type": "markdown",
   "metadata": {},
   "source": [
    "# Assignment 1-2: Data Collection Using Web APIs"
   ]
  },
  {
   "cell_type": "markdown",
   "metadata": {},
   "source": [
    "## Objective"
   ]
  },
  {
   "cell_type": "markdown",
   "metadata": {},
   "source": [
    "Many Websites (such as Twitter, Yelp, Spotify) provide free APIs to allow users to access their data. *API wrappers* simplify the use of these APIs by wrapping API calls into easy-to-use Python functions. At SFU, we are developing a unified API wrapper, called [DataPrep.Connector](https://github.com/sfu-db/dataprep#connector), which offers a unified programming interface to collect data from a variety of Web APIs.\n",
    "\n",
    "In this assignment, you will learn the followings:\n",
    "\n",
    "* How to ask insightful questions about data\n",
    "* How to collect data from Web APIs using DataPrep.Connector\n",
    "\n",
    "**Requirements:**\n",
    "\n",
    "1. Please use [pandas.DataFrame](http://pandas.pydata.org/pandas-docs/stable/generated/pandas.DataFrame.html) rather than spark.DataFrame to manipulate data.\n",
    "\n",
    "2. Please follow the python code style (https://www.python.org/dev/peps/pep-0008/). If TA finds your code hard to read, you will lose points. This requirement will stay for the whole semester."
   ]
  },
  {
   "cell_type": "markdown",
   "metadata": {},
   "source": [
    "## Preliminary"
   ]
  },
  {
   "cell_type": "markdown",
   "metadata": {},
   "source": [
    "DataPrep.Connector is very easy to learn. By watching this 10-min [PyData Global 2020 talk](https://www.youtube.com/watch?v=56qu-0Ka-dA), you should be able to know how to use it. \n",
    "\n",
    "If you want to know more, below are some other useful resources.\n",
    "\n",
    "* [Quick Introduction](https://github.com/sfu-db/dataprep#connector)\n",
    "* [User Guide](https://sfu-db.github.io/dataprep/user_guide/connector/connector.html) \n",
    "* [Fetch and analyze COVID-19 tweets using DataPrep](https://www.youtube.com/watch?v=vvypQB3Vp1o)"
   ]
  },
  {
   "cell_type": "markdown",
   "metadata": {},
   "source": [
    "## Overview"
   ]
  },
  {
   "cell_type": "markdown",
   "metadata": {},
   "source": [
    "This is a **group** assignment. Please check which API your group will work on from this [page](https://coursys.sfu.ca/2021sp-cmpt-733-g1/pages/Web-API-Assignment/view).  Your group needs to first come up with $n$ questions about a Web API and then write code to answer them one by one, where $n = 6$ if your group has three members and $n = 4$ if your group has two members.\n",
    "\n",
    "For example, Sakina, Vignesh, and Wen Han will form one group and they need to come up with 6 questions about the Etsy API and write code to answer them. Chuan-Yun, Krince will form one group and they need to come up with 4 questions about the Guardian API and write code to answer them."
   ]
  },
  {
   "cell_type": "markdown",
   "metadata": {},
   "source": [
    "## How to do this assignment?"
   ]
  },
  {
   "cell_type": "markdown",
   "metadata": {},
   "source": [
    "The first thing is to come up with a list of **good questions**. Please use the following to judge whether a list of questions are good or not.\n",
    "\n",
    "1. Good questions need to be useful. That is, they are common questions asked about the API.\n",
    "2. Good questions need to be diverse. That is, they cover different aspects of the API. \n",
    "3. Good questions have to cover different difficulty levels. That is, it consists of both easy and difficult questions,  where the difficulty can be measured by the number of lines of code or the number of input parameters.\n",
    "\n",
    "Suppose that your group is assigned to work on the Yelp API. The following shows a list of 4 good questions. The corresponding code for these questions can be found at this [link](https://github.com/sfu-db/DataConnectorConfigs#yelp----collect-local-business-data)."
   ]
  },
  {
   "cell_type": "markdown",
   "metadata": {},
   "source": [
    "* Q1. What's the phone number of Capilano Suspension Bridge Park?\n",
    "* Q2. Which yoga store has the highest review count in Vancouver?\n",
    "* Q3. How many Starbucks stores in Seattle and where are they?\n",
    "* Q4. What are the ratings for a list of restaurants?"
   ]
  },
  {
   "cell_type": "markdown",
   "metadata": {},
   "source": [
    "**Why are they useful?**\n",
    "* Q1 is useful because \"Capilano Suspension Bridge Park\" is one of the most popular tourist attractions in Vancouver.\n",
    "* Q2 is useful because a yoga fan want to find out the most popular yoga store in Vancouver. \n",
    "* Q3 is useful because Starbucks was founded in Seattle.\n",
    "* Q4 is useful because people often rely on yelp ratings to decide which restaurant to go to."
   ]
  },
  {
   "cell_type": "markdown",
   "metadata": {},
   "source": [
    "**Why are they diverse?**\n",
    "\n",
    "This is because the [code](yelp-code.png) written to answer them has different inputs or outputs.\n",
    "* Q1 takes `term` and `location` as input and returns 1 record with attributes `name` and `phone` \n",
    "* Q2 takes `categories`, `location`, and `sort_by` as input and returns 1 record with attributes `name` and `review_count`\n",
    "* Q3 takes `term` and `location` as input and returns n records with attributes `name`, `address`, `city`, `state`, `country`, `zipcode`\n",
    "* Q4 takes a list of retarurant `names` as input and return n records with attributes `name`, `rating`, `city`"
   ]
  },
  {
   "cell_type": "markdown",
   "metadata": {},
   "source": [
    "**Why are they more and more difficult?**\n",
    "* Q1 (4 lines of code, 2 query parameters)\n",
    "* Q2 (4 lines of code, 3 query parameters)\n",
    "* Q3 (5 lines of code, 2 query parameters)\n",
    "* Q4 (11 lines of code, 2 query parameters)"
   ]
  },
  {
   "cell_type": "markdown",
   "metadata": {},
   "source": [
    "Please note that you have to use DataPrep.Connector to get data from the Web API. If DataPrep.Connector cannot meet your needs, please post your questions on Canvas. We will help you. "
   ]
  },
  {
   "cell_type": "markdown",
   "metadata": {},
   "source": [
    "## Now, it's your turn. :) "
   ]
  },
  {
   "cell_type": "markdown",
   "metadata": {},
   "source": [
    "Please write down your questions and the corresponding code for your assigned API. "
   ]
  },
  {
   "cell_type": "code",
   "execution_count": 2,
   "metadata": {},
   "outputs": [],
   "source": [
    "## Provide your API key here for TAs to reproduce your results\n",
    "auth_token = \"12c7d849ddcf4bbb8a6efd1ebf5624f6\"\n",
    "from dataprep.connector import connect, info"
   ]
  },
  {
   "cell_type": "code",
   "execution_count": 21,
   "metadata": {},
   "outputs": [],
   "source": [
    "dc = connect('spoonacular', _auth={'access_token':auth_token}, _concurrency=3)"
   ]
  },
  {
   "cell_type": "code",
   "execution_count": 25,
   "metadata": {},
   "outputs": [
    {
     "data": {
      "text/html": [
       "<html>\n",
       "    <head>\n",
       "        <title> DataPrep.Connector Info </title>\n",
       "        <script>\n",
       "            function switchTab637(e) {\n",
       "                const selectedAreaSuffix = e.parentElement.parentElement.className.split('-')[1];\n",
       "                const selectedTabId = e.id.split('-')[2];\n",
       "                const selectedTabContent = document.querySelector(`.contents-${selectedAreaSuffix}>div:nth-of-type(${selectedTabId})`);\n",
       "                const contentArray = document.getElementsByClassName('info-637')\n",
       "                for (let i of contentArray) {\n",
       "                    i.style.display = 'none';\n",
       "                }\n",
       "                selectedTabContent.style.display = 'block';\n",
       "            }\n",
       "        </script>\n",
       "        <style>\n",
       "            .container-637 {\n",
       "            }\n",
       "            .container-637 input[type=radio] {\n",
       "            display: none;\n",
       "            }\n",
       "            .tabs-637 {\n",
       "            font-family: -apple-system, 'Helvetica Neue', 'Helvetica', 'Arial', 'Lucida Grande', sans-serif;\n",
       "            -webkit-font-smoothing: antialiased;\n",
       "            display: grid;\n",
       "            flex-wrap: wrap;\n",
       "            gap: 5px;\n",
       "            grid-template-columns: repeat(auto-fill, minmax(110px, 1fr));\n",
       "            justify-content: wrap;\n",
       "            }\n",
       "            .tabs-637 label {\n",
       "            word-wrap: break-word;\n",
       "            text-align: center;\n",
       "            font-size: 12px;\n",
       "            border-bottom: 2px solid #9edae5;\n",
       "            transition: border 0.3s ease;\n",
       "            }\n",
       "            .tabs-637 label:hover {\n",
       "            background: rgba(0, 0, 0, 0.1);\n",
       "            }\n",
       "            .tabs-637 input:checked+label {\n",
       "            border-bottom: 2px solid #1f77b4;\n",
       "            }\n",
       "            .contents-637>div:nth-of-type(n+2) {\n",
       "            display: none;\n",
       "            }\n",
       "            h4 {\n",
       "            font-size: 14px;\n",
       "            font-family: Arial;\n",
       "            }\n",
       "            p {\n",
       "            font-size: 13px;\n",
       "            }\n",
       "        </style>\n",
       "    </head>\n",
       "    <body>\n",
       "        <div class=\"container-637\">\n",
       "            <div class=\"tabs-637\">\n",
       "                <input type=\"radio\" name=\"select\" id='tab-637-1' checked onclick=\"switchTab637(this)\">\n",
       "                <label for=\"tab-637-1\">spoon</label>\n",
       "                \n",
       "                \n",
       "                \n",
       "                    \t\t\n",
       "            </div>\n",
       "            <div class=\"contents-637\">\n",
       "                \n",
       "                <div class=\"info-637\">\n",
       "                    <div>\n",
       "                        <h4><u>Parameters</u></h4>\n",
       "                        \n",
       "                        \n",
       "                        \n",
       "                        <p style=\"display:wrap\"><code>minProtein</code></p>\n",
       "                        \n",
       "                        <p style=\"display:wrap\"><code>minCarbs</code></p>\n",
       "                        \n",
       "                        \n",
       "                        \n",
       "                    </div>\n",
       "                    <div>\n",
       "                        <h4><u>Example</u></h4>\n",
       "                        \n",
       "                        \n",
       "                        \n",
       "                        \n",
       "                        \n",
       "                        \n",
       "                        \n",
       "                        \n",
       "                        \n",
       "                        \n",
       "                        <p><code>dc = connect('spoonacular', _auth={'access_token':'cCMHU4M4t7rdt*********vp3whGzFjgIKIm0'}, _concurrency=3)<br>df = await dc.query('spoon', _count=20)</code></p>\n",
       "                    </div>\n",
       "                    <div>\n",
       "                    \t<h4><u>Schema</u></h4>\n",
       "                    \t<style  type=\"text/css\" >\n",
       "    #T_bd978_ th {\n",
       "          background: white;\n",
       "          font-weight: bold;\n",
       "          text-align: right;\n",
       "          font-family: arial;\n",
       "          font-size: 13;\n",
       "    }    #T_bd978_ td {\n",
       "          font-family: arial;\n",
       "    }    #T_bd978_ tr:nth-of-type(odd) {\n",
       "          background: #f5f5f5;\n",
       "          font-size: 13;\n",
       "          text-align: right;\n",
       "    }    #T_bd978_ tr:nth-of-type(even) {\n",
       "          background: #white;\n",
       "          font-size: 13;\n",
       "          text-align: right;\n",
       "    }    #T_bd978_ tr:hover {\n",
       "          background-color: e0f1ff;\n",
       "    }</style><table id=\"T_bd978_\" ><thead>    <tr>        <th class=\"blank level0\" ></th>        <th class=\"col_heading level0 col0\" >column_name</th>        <th class=\"col_heading level0 col1\" >data_type</th>    </tr></thead><tbody>\n",
       "                <tr>\n",
       "                        <th id=\"T_bd978_level0_row0\" class=\"row_heading level0 row0\" >0</th>\n",
       "                        <td id=\"T_bd978_row0_col0\" class=\"data row0 col0\" >id</td>\n",
       "                        <td id=\"T_bd978_row0_col1\" class=\"data row0 col1\" >float</td>\n",
       "            </tr>\n",
       "            <tr>\n",
       "                        <th id=\"T_bd978_level0_row1\" class=\"row_heading level0 row1\" >1</th>\n",
       "                        <td id=\"T_bd978_row1_col0\" class=\"data row1 col0\" >calories</td>\n",
       "                        <td id=\"T_bd978_row1_col1\" class=\"data row1 col1\" >string</td>\n",
       "            </tr>\n",
       "            <tr>\n",
       "                        <th id=\"T_bd978_level0_row2\" class=\"row_heading level0 row2\" >2</th>\n",
       "                        <td id=\"T_bd978_row2_col0\" class=\"data row2 col0\" >carbs</td>\n",
       "                        <td id=\"T_bd978_row2_col1\" class=\"data row2 col1\" >string</td>\n",
       "            </tr>\n",
       "            <tr>\n",
       "                        <th id=\"T_bd978_level0_row3\" class=\"row_heading level0 row3\" >3</th>\n",
       "                        <td id=\"T_bd978_row3_col0\" class=\"data row3 col0\" >fat</td>\n",
       "                        <td id=\"T_bd978_row3_col1\" class=\"data row3 col1\" >string</td>\n",
       "            </tr>\n",
       "            <tr>\n",
       "                        <th id=\"T_bd978_level0_row4\" class=\"row_heading level0 row4\" >4</th>\n",
       "                        <td id=\"T_bd978_row4_col0\" class=\"data row4 col0\" >protein</td>\n",
       "                        <td id=\"T_bd978_row4_col1\" class=\"data row4 col1\" >string</td>\n",
       "            </tr>\n",
       "    </tbody></table>\n",
       "                    </div>\n",
       "                </div>\n",
       "                \n",
       "            </div>\n",
       "        </div>\n",
       "    </body>"
      ],
      "text/plain": [
       "<IPython.core.display.HTML object>"
      ]
     },
     "metadata": {},
     "output_type": "display_data"
    }
   ],
   "source": [
    "dc.info()"
   ]
  },
  {
   "cell_type": "code",
   "execution_count": 28,
   "metadata": {},
   "outputs": [
    {
     "data": {
      "text/html": [
       "<div>\n",
       "<style scoped>\n",
       "    .dataframe tbody tr th:only-of-type {\n",
       "        vertical-align: middle;\n",
       "    }\n",
       "\n",
       "    .dataframe tbody tr th {\n",
       "        vertical-align: top;\n",
       "    }\n",
       "\n",
       "    .dataframe thead th {\n",
       "        text-align: right;\n",
       "    }\n",
       "</style>\n",
       "<table border=\"1\" class=\"dataframe\">\n",
       "  <thead>\n",
       "    <tr style=\"text-align: right;\">\n",
       "      <th></th>\n",
       "      <th>id</th>\n",
       "      <th>calories</th>\n",
       "      <th>carbs</th>\n",
       "      <th>fat</th>\n",
       "      <th>protein</th>\n",
       "    </tr>\n",
       "  </thead>\n",
       "  <tbody>\n",
       "  </tbody>\n",
       "</table>\n",
       "</div>"
      ],
      "text/plain": [
       "Empty DataFrame\n",
       "Columns: [id, calories, carbs, fat, protein]\n",
       "Index: []"
      ]
     },
     "execution_count": 28,
     "metadata": {},
     "output_type": "execute_result"
    }
   ],
   "source": [
    "df = await dc.query('spoon', minProtein = 0, minCarbs = 10)\n",
    "df"
   ]
  },
  {
   "cell_type": "code",
   "execution_count": 20,
   "metadata": {},
   "outputs": [
    {
     "data": {
      "application/vnd.jupyter.widget-view+json": {
       "model_id": "3858114d5ffb47cd8af31b5968f6763d",
       "version_major": 2,
       "version_minor": 0
      },
      "text/plain": [
       "GridspecLayout(children=(VBox(children=(HTML(value='<h3 style=\"background-color:#E8E8E8; background-size: 100p…"
      ]
     },
     "metadata": {},
     "output_type": "display_data"
    }
   ],
   "source": [
    "from dataprep.connector import config_generator_ui\n",
    "config_generator_ui()"
   ]
  },
  {
   "cell_type": "markdown",
   "metadata": {},
   "source": [
    "### Q1 ..."
   ]
  },
  {
   "cell_type": "code",
   "execution_count": 10,
   "metadata": {},
   "outputs": [],
   "source": [
    "## Write your code"
   ]
  },
  {
   "cell_type": "markdown",
   "metadata": {},
   "source": [
    "### Q2 ..."
   ]
  },
  {
   "cell_type": "code",
   "execution_count": 11,
   "metadata": {},
   "outputs": [],
   "source": [
    "## Write your code"
   ]
  },
  {
   "cell_type": "markdown",
   "metadata": {},
   "source": [
    "### Q3 ..."
   ]
  },
  {
   "cell_type": "code",
   "execution_count": 10,
   "metadata": {},
   "outputs": [],
   "source": [
    "## Write your code"
   ]
  },
  {
   "cell_type": "markdown",
   "metadata": {},
   "source": [
    "### Q4 ..."
   ]
  },
  {
   "cell_type": "code",
   "execution_count": 10,
   "metadata": {},
   "outputs": [],
   "source": [
    "## Write your code"
   ]
  },
  {
   "cell_type": "markdown",
   "metadata": {},
   "source": [
    "**If your group has 3 members, please complete Q5 and Q6.**\n",
    "### Q5 ..."
   ]
  },
  {
   "cell_type": "code",
   "execution_count": 13,
   "metadata": {},
   "outputs": [],
   "source": [
    "## Write your code"
   ]
  },
  {
   "cell_type": "markdown",
   "metadata": {},
   "source": [
    "### Q6 ..."
   ]
  },
  {
   "cell_type": "code",
   "execution_count": 15,
   "metadata": {},
   "outputs": [],
   "source": [
    "## Write your code"
   ]
  },
  {
   "cell_type": "markdown",
   "metadata": {},
   "source": [
    "## Submission"
   ]
  },
  {
   "cell_type": "markdown",
   "metadata": {},
   "source": [
    "Complete this notebook, rename it to `A1-2-[WEB API Name].ipynb`, and submit it to the CourSys activity `Assignment 1`. For example, if your group works on Twitter, then **every member of your group** needs to submit the same notebook named `A1-2-Twitter.ipynb`."
   ]
  }
 ],
 "metadata": {
  "kernelspec": {
   "display_name": "Python 3",
   "language": "python",
   "name": "python3"
  },
  "language_info": {
   "codemirror_mode": {
    "name": "ipython",
    "version": 3
   },
   "file_extension": ".py",
   "mimetype": "text/x-python",
   "name": "python",
   "nbconvert_exporter": "python",
   "pygments_lexer": "ipython3",
   "version": "3.7.4"
  }
 },
 "nbformat": 4,
 "nbformat_minor": 4
}
